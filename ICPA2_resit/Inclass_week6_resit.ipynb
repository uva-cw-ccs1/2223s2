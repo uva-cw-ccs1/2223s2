{
 "cells": [
  {
   "cell_type": "markdown",
   "metadata": {},
   "source": [
    "# In-class assignment 2 resit\n",
    "\n",
    "Student name:\n",
    "\n",
    "Student number:\n",
    "\n",
    "Now that you have learned about Pandas and basics of data analysis, we will ask you to apply them in this assignment.\n",
    "\n",
    "* You are allowed to use your study materials (e.g., slides, literature, notebooks, solutions to weekly challenges) during the assignment. You are not allowed to use external sources.\n",
    "* It is strictly forbidden to communicate with other students during the examination.\n",
    "* When you are finished, double-check whether you answered all questions before uploading the assignment.\n",
    "* Carefully read the instructions and questions in this notebook!\n",
    "\n",
    "General instructions for answering the questions. Please read the instructions carefully:\n",
    "\n",
    "* This assignment consists of a Jupyter Notebook with 2 questions. Read all the questions carefully. Make sure you save the notebook locally before starting to answer the questions. Rename this file according to the following structure: \n",
    "LastName_Surname_StudentID_Coursename\n",
    "* Fill in your name and student number in the indicated space.\n",
    "* To answer the questions, write your answers in this notebook where indicated. Note that you can create as many code and markdown cells as you need.\n",
    "* Answer all questions and check upon completion if you really addressed all (sub-)questions.\n",
    "* Use correct and complete sentences. Poorly or unclearly formulated answers will not be graded.\n",
    "* Make sure to answer all questions in your own words.\n",
    "* Do not provide any irrelevant information. If you provide more answers than instructed, only your first answer will be graded. If your correct answer also includes incorrect or irrelevant elements, these will lead to deduction of points.\n",
    "* You can obtain a maximum of 10 points. The points you can obtain for each question are provided at the respective question.\n",
    "\n",
    "Submission instructions:\n",
    "\n",
    "* Please upload the html version of the notebook on Canvas. \n",
    "* To do so, when the assignment is fully finished (and all the code executed), in Jupyter Lab, select File --> Export Notebook As --> Export Notebook to HTML. An html file will be generated (and probably downloaded to your Downloads folder). Upload this html file to Canvas. This file will be also used for the plagiarism check.\n",
    "* Make sure that the html file is names according to the following structure: \n",
    "LastName_Surname_StudentID_Coursename.html\n",
    "* If you cannot generate an HTML version from your Notebook (if the option disappeared), upload a PDF instead to Canvas. Please tell your lecturer about it.\n",
    "\n",
    "Good luck!\n",
    "\n",
    "\n",
    "# General scenario\n",
    "\n",
    "Together with this assignment, you received a file `posts.csv`. This file contains some information on performance of social media posts posted by the city of Amsterdam on their Instagram.\n",
    "\n",
    "\n",
    "Imagine that you work at the Communication department of the municipality. Your boss asks you:\n",
    "\n",
    "> Please have a look at this data file I got from our social media agency. It seems to be about how well different types of posts perform on our Instagram, but that is just a guess - I need you to figure out what is in there and prepare a report about it. Please make a report with the main insights we can get from this data.\n",
    ">\n",
    "> You know how our higher-ups are - they always want pretty graphs and are critical about what the best visualizations are. So make sure to use appropriate ones.\n",
    ">\n",
    "> But I also want the numbers and statistics, because I will get questions about exact numbers and statistical tests. So I also want those in addition.\n",
    "\n",
    "Good luck!"
   ]
  },
  {
   "cell_type": "markdown",
   "metadata": {},
   "source": [
    "## Task 1: Inspect the structure of the data frame and make a plan (20%)\n",
    "\n",
    "First, import the data and get a generic overview about what variables you have at your disposal. Make sure to at least check how the dataset looks like, what columns it has, what data type these columns have and what information they give you. \n",
    "\n",
    "Once you have a feel for the dataset, write a short plan in which you outline what you will analyze to prepare the report. \n",
    "\n",
    "*Tip*: An outstanding report would include exploratory data analysis (univariate statistics), appropriate univariate and bivariate visualisations, and appropriate statistical tests. "
   ]
  },
  {
   "cell_type": "code",
   "execution_count": null,
   "metadata": {},
   "outputs": [],
   "source": [
    "# your code here"
   ]
  },
  {
   "cell_type": "markdown",
   "metadata": {},
   "source": [
    "*your plan here*"
   ]
  },
  {
   "cell_type": "code",
   "execution_count": null,
   "metadata": {},
   "outputs": [],
   "source": []
  },
  {
   "cell_type": "markdown",
   "metadata": {},
   "source": [
    "## Task 2: The report (80%)\n",
    "Create a nicely formatted report with code, graphs, tables and/or statistics, and Markdown Cells with explanations. For formatting of your answer, consider using headers (by starting the Markdown Cell with `###` for instance), bullet points etc.\n",
    "\n",
    "*Note*: for the report make sure to include all the elements mentioned in task 1. It is up to you which variables you choose to analyse and visualise. It is also up to you to choose relations between variables to test. \n"
   ]
  },
  {
   "cell_type": "markdown",
   "metadata": {},
   "source": []
  },
  {
   "cell_type": "markdown",
   "metadata": {},
   "source": [
    "*report starts here*"
   ]
  },
  {
   "cell_type": "code",
   "execution_count": 24,
   "metadata": {},
   "outputs": [],
   "source": [
    "# your code here"
   ]
  },
  {
   "cell_type": "markdown",
   "metadata": {},
   "source": [
    "*your text here*"
   ]
  },
  {
   "cell_type": "code",
   "execution_count": null,
   "metadata": {},
   "outputs": [],
   "source": [
    "# more code here"
   ]
  },
  {
   "cell_type": "markdown",
   "metadata": {},
   "source": [
    "*more text here*"
   ]
  }
 ],
 "metadata": {
  "interpreter": {
   "hash": "aee8b7b246df8f9039afb4144a1f6fd8d2ca17a180786b69acc140d282b71a49"
  },
  "kernelspec": {
   "display_name": "Python 3.9.1 64-bit",
   "language": "python",
   "name": "python3"
  },
  "language_info": {
   "codemirror_mode": {
    "name": "ipython",
    "version": 3
   },
   "file_extension": ".py",
   "mimetype": "text/x-python",
   "name": "python",
   "nbconvert_exporter": "python",
   "pygments_lexer": "ipython3",
   "version": "3.9.1"
  }
 },
 "nbformat": 4,
 "nbformat_minor": 4
}
